{
 "cells": [
  {
   "cell_type": "markdown",
   "metadata": {},
   "source": [
    "### Importing all the important tools(libraries) required"
   ]
  },
  {
   "cell_type": "code",
   "execution_count": 194,
   "metadata": {},
   "outputs": [],
   "source": [
    "import numpy as np\n",
    "import pandas as pd\n",
    "import matplotlib.pyplot as plt\n",
    "import seaborn as sns\n",
    "%matplotlib inline"
   ]
  },
  {
   "cell_type": "code",
   "execution_count": 195,
   "metadata": {},
   "outputs": [],
   "source": [
    "data=pd.read_excel('agent_followup_data.xlsx',sheet_name='Dataset')"
   ]
  },
  {
   "cell_type": "code",
   "execution_count": 196,
   "metadata": {},
   "outputs": [],
   "source": [
    "df=pd.DataFrame(data)"
   ]
  },
  {
   "cell_type": "code",
   "execution_count": 197,
   "metadata": {},
   "outputs": [
    {
     "data": {
      "text/html": [
       "<div>\n",
       "<style scoped>\n",
       "    .dataframe tbody tr th:only-of-type {\n",
       "        vertical-align: middle;\n",
       "    }\n",
       "\n",
       "    .dataframe tbody tr th {\n",
       "        vertical-align: top;\n",
       "    }\n",
       "\n",
       "    .dataframe thead th {\n",
       "        text-align: right;\n",
       "    }\n",
       "</style>\n",
       "<table border=\"1\" class=\"dataframe\">\n",
       "  <thead>\n",
       "    <tr style=\"text-align: right;\">\n",
       "      <th></th>\n",
       "      <th>id</th>\n",
       "      <th>followup_date</th>\n",
       "      <th>lead_created_at</th>\n",
       "      <th>leadId</th>\n",
       "      <th>followup_type</th>\n",
       "      <th>agentId</th>\n",
       "      <th>additional_data</th>\n",
       "    </tr>\n",
       "  </thead>\n",
       "  <tbody>\n",
       "    <tr>\n",
       "      <th>0</th>\n",
       "      <td>1</td>\n",
       "      <td>2020-03-05 14:38:54</td>\n",
       "      <td>2019-11-04 16:12:00-05:00</td>\n",
       "      <td>20293</td>\n",
       "      <td>calls</td>\n",
       "      <td>10</td>\n",
       "      <td>{'duration': 0, 'is_incoming': False}</td>\n",
       "    </tr>\n",
       "    <tr>\n",
       "      <th>1</th>\n",
       "      <td>2</td>\n",
       "      <td>2020-03-05 14:38:55</td>\n",
       "      <td>2019-11-04 16:12:00-05:00</td>\n",
       "      <td>20293</td>\n",
       "      <td>calls</td>\n",
       "      <td>10</td>\n",
       "      <td>{'duration': 0, 'is_incoming': False}</td>\n",
       "    </tr>\n",
       "    <tr>\n",
       "      <th>2</th>\n",
       "      <td>3</td>\n",
       "      <td>2020-01-06 19:11:39</td>\n",
       "      <td>2019-12-26 08:30:32-05:00</td>\n",
       "      <td>49122</td>\n",
       "      <td>calls</td>\n",
       "      <td>4</td>\n",
       "      <td>{'duration': 91, 'is_incoming': False}</td>\n",
       "    </tr>\n",
       "    <tr>\n",
       "      <th>3</th>\n",
       "      <td>4</td>\n",
       "      <td>2020-08-31 13:12:53</td>\n",
       "      <td>2020-08-30 19:39:18-04:00</td>\n",
       "      <td>58040</td>\n",
       "      <td>calls</td>\n",
       "      <td>9</td>\n",
       "      <td>{'duration': 0, 'is_incoming': False}</td>\n",
       "    </tr>\n",
       "    <tr>\n",
       "      <th>4</th>\n",
       "      <td>5</td>\n",
       "      <td>2020-10-14 14:47:23</td>\n",
       "      <td>2017-01-28 11:04:00-05:00</td>\n",
       "      <td>36567</td>\n",
       "      <td>calls</td>\n",
       "      <td>9</td>\n",
       "      <td>{'duration': 0, 'is_incoming': False}</td>\n",
       "    </tr>\n",
       "  </tbody>\n",
       "</table>\n",
       "</div>"
      ],
      "text/plain": [
       "   id        followup_date            lead_created_at  leadId followup_type  \\\n",
       "0   1  2020-03-05 14:38:54  2019-11-04 16:12:00-05:00   20293         calls   \n",
       "1   2  2020-03-05 14:38:55  2019-11-04 16:12:00-05:00   20293         calls   \n",
       "2   3  2020-01-06 19:11:39  2019-12-26 08:30:32-05:00   49122         calls   \n",
       "3   4  2020-08-31 13:12:53  2020-08-30 19:39:18-04:00   58040         calls   \n",
       "4   5  2020-10-14 14:47:23  2017-01-28 11:04:00-05:00   36567         calls   \n",
       "\n",
       "   agentId                         additional_data  \n",
       "0       10   {'duration': 0, 'is_incoming': False}  \n",
       "1       10   {'duration': 0, 'is_incoming': False}  \n",
       "2        4  {'duration': 91, 'is_incoming': False}  \n",
       "3        9   {'duration': 0, 'is_incoming': False}  \n",
       "4        9   {'duration': 0, 'is_incoming': False}  "
      ]
     },
     "execution_count": 197,
     "metadata": {},
     "output_type": "execute_result"
    }
   ],
   "source": [
    "df.head()"
   ]
  },
  {
   "cell_type": "markdown",
   "metadata": {},
   "source": [
    "#### Checking the type of data and also checking for null values"
   ]
  },
  {
   "cell_type": "code",
   "execution_count": 198,
   "metadata": {},
   "outputs": [
    {
     "name": "stdout",
     "output_type": "stream",
     "text": [
      "<class 'pandas.core.frame.DataFrame'>\n",
      "RangeIndex: 68354 entries, 0 to 68353\n",
      "Data columns (total 7 columns):\n",
      " #   Column           Non-Null Count  Dtype \n",
      "---  ------           --------------  ----- \n",
      " 0   id               68354 non-null  int64 \n",
      " 1   followup_date    68354 non-null  object\n",
      " 2   lead_created_at  68354 non-null  object\n",
      " 3   leadId           68354 non-null  int64 \n",
      " 4   followup_type    68354 non-null  object\n",
      " 5   agentId          68354 non-null  int64 \n",
      " 6   additional_data  68354 non-null  object\n",
      "dtypes: int64(3), object(4)\n",
      "memory usage: 3.7+ MB\n"
     ]
    }
   ],
   "source": [
    "df.info()"
   ]
  },
  {
   "cell_type": "markdown",
   "metadata": {},
   "source": [
    "### General EDA with respect to the agentId and their follow-up methods\n",
    "###### Following up is a prime factor in CRM, the method also plays an important role. "
   ]
  },
  {
   "cell_type": "code",
   "execution_count": 199,
   "metadata": {},
   "outputs": [],
   "source": [
    "df['followup_date']=pd.to_datetime(df['followup_date'],utc=False)\n",
    "df['f_date'] = df['followup_date'].dt.date"
   ]
  },
  {
   "cell_type": "code",
   "execution_count": 200,
   "metadata": {},
   "outputs": [],
   "source": [
    "df['lead_created_at']=pd.to_datetime(df['followup_date'],utc=False)\n",
    "df['lead_date'] = df['lead_created_at'].dt.date"
   ]
  },
  {
   "cell_type": "code",
   "execution_count": 201,
   "metadata": {},
   "outputs": [
    {
     "data": {
      "text/html": [
       "<div>\n",
       "<style scoped>\n",
       "    .dataframe tbody tr th:only-of-type {\n",
       "        vertical-align: middle;\n",
       "    }\n",
       "\n",
       "    .dataframe tbody tr th {\n",
       "        vertical-align: top;\n",
       "    }\n",
       "\n",
       "    .dataframe thead th {\n",
       "        text-align: right;\n",
       "    }\n",
       "</style>\n",
       "<table border=\"1\" class=\"dataframe\">\n",
       "  <thead>\n",
       "    <tr style=\"text-align: right;\">\n",
       "      <th></th>\n",
       "      <th>id</th>\n",
       "      <th>followup_date</th>\n",
       "      <th>lead_created_at</th>\n",
       "      <th>leadId</th>\n",
       "      <th>followup_type</th>\n",
       "      <th>agentId</th>\n",
       "      <th>additional_data</th>\n",
       "      <th>f_date</th>\n",
       "      <th>lead_date</th>\n",
       "    </tr>\n",
       "  </thead>\n",
       "  <tbody>\n",
       "    <tr>\n",
       "      <th>0</th>\n",
       "      <td>1</td>\n",
       "      <td>2020-03-05 14:38:54</td>\n",
       "      <td>2020-03-05 14:38:54</td>\n",
       "      <td>20293</td>\n",
       "      <td>calls</td>\n",
       "      <td>10</td>\n",
       "      <td>{'duration': 0, 'is_incoming': False}</td>\n",
       "      <td>2020-03-05</td>\n",
       "      <td>2020-03-05</td>\n",
       "    </tr>\n",
       "    <tr>\n",
       "      <th>1</th>\n",
       "      <td>2</td>\n",
       "      <td>2020-03-05 14:38:55</td>\n",
       "      <td>2020-03-05 14:38:55</td>\n",
       "      <td>20293</td>\n",
       "      <td>calls</td>\n",
       "      <td>10</td>\n",
       "      <td>{'duration': 0, 'is_incoming': False}</td>\n",
       "      <td>2020-03-05</td>\n",
       "      <td>2020-03-05</td>\n",
       "    </tr>\n",
       "    <tr>\n",
       "      <th>2</th>\n",
       "      <td>3</td>\n",
       "      <td>2020-01-06 19:11:39</td>\n",
       "      <td>2020-01-06 19:11:39</td>\n",
       "      <td>49122</td>\n",
       "      <td>calls</td>\n",
       "      <td>4</td>\n",
       "      <td>{'duration': 91, 'is_incoming': False}</td>\n",
       "      <td>2020-01-06</td>\n",
       "      <td>2020-01-06</td>\n",
       "    </tr>\n",
       "    <tr>\n",
       "      <th>3</th>\n",
       "      <td>4</td>\n",
       "      <td>2020-08-31 13:12:53</td>\n",
       "      <td>2020-08-31 13:12:53</td>\n",
       "      <td>58040</td>\n",
       "      <td>calls</td>\n",
       "      <td>9</td>\n",
       "      <td>{'duration': 0, 'is_incoming': False}</td>\n",
       "      <td>2020-08-31</td>\n",
       "      <td>2020-08-31</td>\n",
       "    </tr>\n",
       "    <tr>\n",
       "      <th>4</th>\n",
       "      <td>5</td>\n",
       "      <td>2020-10-14 14:47:23</td>\n",
       "      <td>2020-10-14 14:47:23</td>\n",
       "      <td>36567</td>\n",
       "      <td>calls</td>\n",
       "      <td>9</td>\n",
       "      <td>{'duration': 0, 'is_incoming': False}</td>\n",
       "      <td>2020-10-14</td>\n",
       "      <td>2020-10-14</td>\n",
       "    </tr>\n",
       "  </tbody>\n",
       "</table>\n",
       "</div>"
      ],
      "text/plain": [
       "   id       followup_date     lead_created_at  leadId followup_type  agentId  \\\n",
       "0   1 2020-03-05 14:38:54 2020-03-05 14:38:54   20293         calls       10   \n",
       "1   2 2020-03-05 14:38:55 2020-03-05 14:38:55   20293         calls       10   \n",
       "2   3 2020-01-06 19:11:39 2020-01-06 19:11:39   49122         calls        4   \n",
       "3   4 2020-08-31 13:12:53 2020-08-31 13:12:53   58040         calls        9   \n",
       "4   5 2020-10-14 14:47:23 2020-10-14 14:47:23   36567         calls        9   \n",
       "\n",
       "                          additional_data      f_date   lead_date  \n",
       "0   {'duration': 0, 'is_incoming': False}  2020-03-05  2020-03-05  \n",
       "1   {'duration': 0, 'is_incoming': False}  2020-03-05  2020-03-05  \n",
       "2  {'duration': 91, 'is_incoming': False}  2020-01-06  2020-01-06  \n",
       "3   {'duration': 0, 'is_incoming': False}  2020-08-31  2020-08-31  \n",
       "4   {'duration': 0, 'is_incoming': False}  2020-10-14  2020-10-14  "
      ]
     },
     "execution_count": 201,
     "metadata": {},
     "output_type": "execute_result"
    }
   ],
   "source": [
    "df.head()"
   ]
  },
  {
   "cell_type": "code",
   "execution_count": 202,
   "metadata": {},
   "outputs": [],
   "source": [
    "df['f_date']=pd.to_datetime(df['f_date'])\n",
    "df['lead_date']=pd.to_datetime(df['lead_date'])"
   ]
  },
  {
   "cell_type": "code",
   "execution_count": 203,
   "metadata": {},
   "outputs": [
    {
     "data": {
      "text/html": [
       "<div>\n",
       "<style scoped>\n",
       "    .dataframe tbody tr th:only-of-type {\n",
       "        vertical-align: middle;\n",
       "    }\n",
       "\n",
       "    .dataframe tbody tr th {\n",
       "        vertical-align: top;\n",
       "    }\n",
       "\n",
       "    .dataframe thead th {\n",
       "        text-align: right;\n",
       "    }\n",
       "</style>\n",
       "<table border=\"1\" class=\"dataframe\">\n",
       "  <thead>\n",
       "    <tr style=\"text-align: right;\">\n",
       "      <th></th>\n",
       "      <th>id</th>\n",
       "      <th>followup_date</th>\n",
       "      <th>lead_created_at</th>\n",
       "      <th>leadId</th>\n",
       "      <th>followup_type</th>\n",
       "      <th>agentId</th>\n",
       "      <th>additional_data</th>\n",
       "      <th>f_date</th>\n",
       "      <th>lead_date</th>\n",
       "    </tr>\n",
       "  </thead>\n",
       "  <tbody>\n",
       "    <tr>\n",
       "      <th>0</th>\n",
       "      <td>1</td>\n",
       "      <td>2020-03-05 14:38:54</td>\n",
       "      <td>2020-03-05 14:38:54</td>\n",
       "      <td>20293</td>\n",
       "      <td>calls</td>\n",
       "      <td>10</td>\n",
       "      <td>{'duration': 0, 'is_incoming': False}</td>\n",
       "      <td>2020-03-05</td>\n",
       "      <td>2020-03-05</td>\n",
       "    </tr>\n",
       "    <tr>\n",
       "      <th>1</th>\n",
       "      <td>2</td>\n",
       "      <td>2020-03-05 14:38:55</td>\n",
       "      <td>2020-03-05 14:38:55</td>\n",
       "      <td>20293</td>\n",
       "      <td>calls</td>\n",
       "      <td>10</td>\n",
       "      <td>{'duration': 0, 'is_incoming': False}</td>\n",
       "      <td>2020-03-05</td>\n",
       "      <td>2020-03-05</td>\n",
       "    </tr>\n",
       "    <tr>\n",
       "      <th>2</th>\n",
       "      <td>3</td>\n",
       "      <td>2020-01-06 19:11:39</td>\n",
       "      <td>2020-01-06 19:11:39</td>\n",
       "      <td>49122</td>\n",
       "      <td>calls</td>\n",
       "      <td>4</td>\n",
       "      <td>{'duration': 91, 'is_incoming': False}</td>\n",
       "      <td>2020-01-06</td>\n",
       "      <td>2020-01-06</td>\n",
       "    </tr>\n",
       "    <tr>\n",
       "      <th>3</th>\n",
       "      <td>4</td>\n",
       "      <td>2020-08-31 13:12:53</td>\n",
       "      <td>2020-08-31 13:12:53</td>\n",
       "      <td>58040</td>\n",
       "      <td>calls</td>\n",
       "      <td>9</td>\n",
       "      <td>{'duration': 0, 'is_incoming': False}</td>\n",
       "      <td>2020-08-31</td>\n",
       "      <td>2020-08-31</td>\n",
       "    </tr>\n",
       "    <tr>\n",
       "      <th>4</th>\n",
       "      <td>5</td>\n",
       "      <td>2020-10-14 14:47:23</td>\n",
       "      <td>2020-10-14 14:47:23</td>\n",
       "      <td>36567</td>\n",
       "      <td>calls</td>\n",
       "      <td>9</td>\n",
       "      <td>{'duration': 0, 'is_incoming': False}</td>\n",
       "      <td>2020-10-14</td>\n",
       "      <td>2020-10-14</td>\n",
       "    </tr>\n",
       "  </tbody>\n",
       "</table>\n",
       "</div>"
      ],
      "text/plain": [
       "   id       followup_date     lead_created_at  leadId followup_type  agentId  \\\n",
       "0   1 2020-03-05 14:38:54 2020-03-05 14:38:54   20293         calls       10   \n",
       "1   2 2020-03-05 14:38:55 2020-03-05 14:38:55   20293         calls       10   \n",
       "2   3 2020-01-06 19:11:39 2020-01-06 19:11:39   49122         calls        4   \n",
       "3   4 2020-08-31 13:12:53 2020-08-31 13:12:53   58040         calls        9   \n",
       "4   5 2020-10-14 14:47:23 2020-10-14 14:47:23   36567         calls        9   \n",
       "\n",
       "                          additional_data     f_date  lead_date  \n",
       "0   {'duration': 0, 'is_incoming': False} 2020-03-05 2020-03-05  \n",
       "1   {'duration': 0, 'is_incoming': False} 2020-03-05 2020-03-05  \n",
       "2  {'duration': 91, 'is_incoming': False} 2020-01-06 2020-01-06  \n",
       "3   {'duration': 0, 'is_incoming': False} 2020-08-31 2020-08-31  \n",
       "4   {'duration': 0, 'is_incoming': False} 2020-10-14 2020-10-14  "
      ]
     },
     "execution_count": 203,
     "metadata": {},
     "output_type": "execute_result"
    }
   ],
   "source": [
    "df.head()"
   ]
  },
  {
   "cell_type": "code",
   "execution_count": 214,
   "metadata": {},
   "outputs": [
    {
     "data": {
      "text/plain": [
       "<AxesSubplot:>"
      ]
     },
     "execution_count": 214,
     "metadata": {},
     "output_type": "execute_result"
    },
    {
     "data": {
      "image/png": "[encoded data removed]",
      "text/plain": [
       "<Figure size 432x288 with 1 Axes>"
      ]
     },
     "metadata": {
      "needs_background": "light"
     },
     "output_type": "display_data"
    }
   ],
   "source": [
    "df['f_date'].plot()"
   ]
  },
  {
   "cell_type": "code",
   "execution_count": 215,
   "metadata": {},
   "outputs": [
    {
     "data": {
      "text/plain": [
       "<AxesSubplot:>"
      ]
     },
     "execution_count": 215,
     "metadata": {},
     "output_type": "execute_result"
    },
    {
     "data": {
      "image/png": "[encoded data removed]",
      "text/plain": [
       "<Figure size 432x288 with 1 Axes>"
      ]
     },
     "metadata": {
      "needs_background": "light"
     },
     "output_type": "display_data"
    }
   ],
   "source": [
    "df['lead_date'].plot()"
   ]
  },
  {
   "cell_type": "code",
   "execution_count": 65,
   "metadata": {},
   "outputs": [
    {
     "data": {
      "text/plain": [
       "4     15290\n",
       "10    11655\n",
       "5     11241\n",
       "9      9281\n",
       "7      7819\n",
       "6      5606\n",
       "2      4086\n",
       "8      2732\n",
       "3       529\n",
       "0       115\n",
       "Name: agentId, dtype: int64"
      ]
     },
     "execution_count": 65,
     "metadata": {},
     "output_type": "execute_result"
    }
   ],
   "source": [
    "df['agentId'].value_counts()"
   ]
  },
  {
   "cell_type": "code",
   "execution_count": 67,
   "metadata": {},
   "outputs": [
    {
     "data": {
      "text/plain": [
       "emails          44757\n",
       "textmessages    20292\n",
       "calls            3305\n",
       "Name: followup_type, dtype: int64"
      ]
     },
     "execution_count": 67,
     "metadata": {},
     "output_type": "execute_result"
    }
   ],
   "source": [
    "df['followup_type'].value_counts()"
   ]
  },
  {
   "cell_type": "code",
   "execution_count": 72,
   "metadata": {},
   "outputs": [],
   "source": [
    "group=df.groupby([\"agentId\", \"followup_type\"])"
   ]
  },
  {
   "cell_type": "markdown",
   "metadata": {},
   "source": [
    "#### The following table gives us a lowdown of the efforts by various agents in order to pursue more leads. \n",
    "###### On the basis of the below data, the recommendations can be made to the agents. "
   ]
  },
  {
   "cell_type": "code",
   "execution_count": 74,
   "metadata": {},
   "outputs": [
    {
     "data": {
      "text/html": [
       "<div>\n",
       "<style scoped>\n",
       "    .dataframe tbody tr th:only-of-type {\n",
       "        vertical-align: middle;\n",
       "    }\n",
       "\n",
       "    .dataframe tbody tr th {\n",
       "        vertical-align: top;\n",
       "    }\n",
       "\n",
       "    .dataframe thead th {\n",
       "        text-align: right;\n",
       "    }\n",
       "</style>\n",
       "<table border=\"1\" class=\"dataframe\">\n",
       "  <thead>\n",
       "    <tr style=\"text-align: right;\">\n",
       "      <th></th>\n",
       "      <th></th>\n",
       "      <th>id</th>\n",
       "      <th>followup_date</th>\n",
       "      <th>lead_created_at</th>\n",
       "      <th>leadId</th>\n",
       "      <th>additional_data</th>\n",
       "    </tr>\n",
       "    <tr>\n",
       "      <th>agentId</th>\n",
       "      <th>followup_type</th>\n",
       "      <th></th>\n",
       "      <th></th>\n",
       "      <th></th>\n",
       "      <th></th>\n",
       "      <th></th>\n",
       "    </tr>\n",
       "  </thead>\n",
       "  <tbody>\n",
       "    <tr>\n",
       "      <th>0</th>\n",
       "      <th>textmessages</th>\n",
       "      <td>115</td>\n",
       "      <td>115</td>\n",
       "      <td>115</td>\n",
       "      <td>115</td>\n",
       "      <td>115</td>\n",
       "    </tr>\n",
       "    <tr>\n",
       "      <th rowspan=\"3\" valign=\"top\">2</th>\n",
       "      <th>calls</th>\n",
       "      <td>65</td>\n",
       "      <td>65</td>\n",
       "      <td>65</td>\n",
       "      <td>65</td>\n",
       "      <td>65</td>\n",
       "    </tr>\n",
       "    <tr>\n",
       "      <th>emails</th>\n",
       "      <td>3706</td>\n",
       "      <td>3706</td>\n",
       "      <td>3706</td>\n",
       "      <td>3706</td>\n",
       "      <td>3706</td>\n",
       "    </tr>\n",
       "    <tr>\n",
       "      <th>textmessages</th>\n",
       "      <td>315</td>\n",
       "      <td>315</td>\n",
       "      <td>315</td>\n",
       "      <td>315</td>\n",
       "      <td>315</td>\n",
       "    </tr>\n",
       "    <tr>\n",
       "      <th rowspan=\"2\" valign=\"top\">3</th>\n",
       "      <th>emails</th>\n",
       "      <td>516</td>\n",
       "      <td>516</td>\n",
       "      <td>516</td>\n",
       "      <td>516</td>\n",
       "      <td>516</td>\n",
       "    </tr>\n",
       "    <tr>\n",
       "      <th>textmessages</th>\n",
       "      <td>13</td>\n",
       "      <td>13</td>\n",
       "      <td>13</td>\n",
       "      <td>13</td>\n",
       "      <td>13</td>\n",
       "    </tr>\n",
       "    <tr>\n",
       "      <th rowspan=\"3\" valign=\"top\">4</th>\n",
       "      <th>calls</th>\n",
       "      <td>1087</td>\n",
       "      <td>1087</td>\n",
       "      <td>1087</td>\n",
       "      <td>1087</td>\n",
       "      <td>1087</td>\n",
       "    </tr>\n",
       "    <tr>\n",
       "      <th>emails</th>\n",
       "      <td>7140</td>\n",
       "      <td>7140</td>\n",
       "      <td>7140</td>\n",
       "      <td>7140</td>\n",
       "      <td>7140</td>\n",
       "    </tr>\n",
       "    <tr>\n",
       "      <th>textmessages</th>\n",
       "      <td>7063</td>\n",
       "      <td>7063</td>\n",
       "      <td>7063</td>\n",
       "      <td>7063</td>\n",
       "      <td>7063</td>\n",
       "    </tr>\n",
       "    <tr>\n",
       "      <th rowspan=\"3\" valign=\"top\">5</th>\n",
       "      <th>calls</th>\n",
       "      <td>6</td>\n",
       "      <td>6</td>\n",
       "      <td>6</td>\n",
       "      <td>6</td>\n",
       "      <td>6</td>\n",
       "    </tr>\n",
       "    <tr>\n",
       "      <th>emails</th>\n",
       "      <td>11065</td>\n",
       "      <td>11065</td>\n",
       "      <td>11065</td>\n",
       "      <td>11065</td>\n",
       "      <td>11065</td>\n",
       "    </tr>\n",
       "    <tr>\n",
       "      <th>textmessages</th>\n",
       "      <td>170</td>\n",
       "      <td>170</td>\n",
       "      <td>170</td>\n",
       "      <td>170</td>\n",
       "      <td>170</td>\n",
       "    </tr>\n",
       "    <tr>\n",
       "      <th rowspan=\"3\" valign=\"top\">6</th>\n",
       "      <th>calls</th>\n",
       "      <td>210</td>\n",
       "      <td>210</td>\n",
       "      <td>210</td>\n",
       "      <td>210</td>\n",
       "      <td>210</td>\n",
       "    </tr>\n",
       "    <tr>\n",
       "      <th>emails</th>\n",
       "      <td>2256</td>\n",
       "      <td>2256</td>\n",
       "      <td>2256</td>\n",
       "      <td>2256</td>\n",
       "      <td>2256</td>\n",
       "    </tr>\n",
       "    <tr>\n",
       "      <th>textmessages</th>\n",
       "      <td>3140</td>\n",
       "      <td>3140</td>\n",
       "      <td>3140</td>\n",
       "      <td>3140</td>\n",
       "      <td>3140</td>\n",
       "    </tr>\n",
       "    <tr>\n",
       "      <th rowspan=\"3\" valign=\"top\">7</th>\n",
       "      <th>calls</th>\n",
       "      <td>183</td>\n",
       "      <td>183</td>\n",
       "      <td>183</td>\n",
       "      <td>183</td>\n",
       "      <td>183</td>\n",
       "    </tr>\n",
       "    <tr>\n",
       "      <th>emails</th>\n",
       "      <td>5207</td>\n",
       "      <td>5207</td>\n",
       "      <td>5207</td>\n",
       "      <td>5207</td>\n",
       "      <td>5207</td>\n",
       "    </tr>\n",
       "    <tr>\n",
       "      <th>textmessages</th>\n",
       "      <td>2429</td>\n",
       "      <td>2429</td>\n",
       "      <td>2429</td>\n",
       "      <td>2429</td>\n",
       "      <td>2429</td>\n",
       "    </tr>\n",
       "    <tr>\n",
       "      <th rowspan=\"3\" valign=\"top\">8</th>\n",
       "      <th>calls</th>\n",
       "      <td>293</td>\n",
       "      <td>293</td>\n",
       "      <td>293</td>\n",
       "      <td>293</td>\n",
       "      <td>293</td>\n",
       "    </tr>\n",
       "    <tr>\n",
       "      <th>emails</th>\n",
       "      <td>1945</td>\n",
       "      <td>1945</td>\n",
       "      <td>1945</td>\n",
       "      <td>1945</td>\n",
       "      <td>1945</td>\n",
       "    </tr>\n",
       "    <tr>\n",
       "      <th>textmessages</th>\n",
       "      <td>494</td>\n",
       "      <td>494</td>\n",
       "      <td>494</td>\n",
       "      <td>494</td>\n",
       "      <td>494</td>\n",
       "    </tr>\n",
       "    <tr>\n",
       "      <th rowspan=\"3\" valign=\"top\">9</th>\n",
       "      <th>calls</th>\n",
       "      <td>814</td>\n",
       "      <td>814</td>\n",
       "      <td>814</td>\n",
       "      <td>814</td>\n",
       "      <td>814</td>\n",
       "    </tr>\n",
       "    <tr>\n",
       "      <th>emails</th>\n",
       "      <td>7292</td>\n",
       "      <td>7292</td>\n",
       "      <td>7292</td>\n",
       "      <td>7292</td>\n",
       "      <td>7292</td>\n",
       "    </tr>\n",
       "    <tr>\n",
       "      <th>textmessages</th>\n",
       "      <td>1175</td>\n",
       "      <td>1175</td>\n",
       "      <td>1175</td>\n",
       "      <td>1175</td>\n",
       "      <td>1175</td>\n",
       "    </tr>\n",
       "    <tr>\n",
       "      <th rowspan=\"3\" valign=\"top\">10</th>\n",
       "      <th>calls</th>\n",
       "      <td>647</td>\n",
       "      <td>647</td>\n",
       "      <td>647</td>\n",
       "      <td>647</td>\n",
       "      <td>647</td>\n",
       "    </tr>\n",
       "    <tr>\n",
       "      <th>emails</th>\n",
       "      <td>5630</td>\n",
       "      <td>5630</td>\n",
       "      <td>5630</td>\n",
       "      <td>5630</td>\n",
       "      <td>5630</td>\n",
       "    </tr>\n",
       "    <tr>\n",
       "      <th>textmessages</th>\n",
       "      <td>5378</td>\n",
       "      <td>5378</td>\n",
       "      <td>5378</td>\n",
       "      <td>5378</td>\n",
       "      <td>5378</td>\n",
       "    </tr>\n",
       "  </tbody>\n",
       "</table>\n",
       "</div>"
      ],
      "text/plain": [
       "                          id  followup_date  lead_created_at  leadId  \\\n",
       "agentId followup_type                                                  \n",
       "0       textmessages     115            115              115     115   \n",
       "2       calls             65             65               65      65   \n",
       "        emails          3706           3706             3706    3706   \n",
       "        textmessages     315            315              315     315   \n",
       "3       emails           516            516              516     516   \n",
       "        textmessages      13             13               13      13   \n",
       "4       calls           1087           1087             1087    1087   \n",
       "        emails          7140           7140             7140    7140   \n",
       "        textmessages    7063           7063             7063    7063   \n",
       "5       calls              6              6                6       6   \n",
       "        emails         11065          11065            11065   11065   \n",
       "        textmessages     170            170              170     170   \n",
       "6       calls            210            210              210     210   \n",
       "        emails          2256           2256             2256    2256   \n",
       "        textmessages    3140           3140             3140    3140   \n",
       "7       calls            183            183              183     183   \n",
       "        emails          5207           5207             5207    5207   \n",
       "        textmessages    2429           2429             2429    2429   \n",
       "8       calls            293            293              293     293   \n",
       "        emails          1945           1945             1945    1945   \n",
       "        textmessages     494            494              494     494   \n",
       "9       calls            814            814              814     814   \n",
       "        emails          7292           7292             7292    7292   \n",
       "        textmessages    1175           1175             1175    1175   \n",
       "10      calls            647            647              647     647   \n",
       "        emails          5630           5630             5630    5630   \n",
       "        textmessages    5378           5378             5378    5378   \n",
       "\n",
       "                       additional_data  \n",
       "agentId followup_type                   \n",
       "0       textmessages               115  \n",
       "2       calls                       65  \n",
       "        emails                    3706  \n",
       "        textmessages               315  \n",
       "3       emails                     516  \n",
       "        textmessages                13  \n",
       "4       calls                     1087  \n",
       "        emails                    7140  \n",
       "        textmessages              7063  \n",
       "5       calls                        6  \n",
       "        emails                   11065  \n",
       "        textmessages               170  \n",
       "6       calls                      210  \n",
       "        emails                    2256  \n",
       "        textmessages              3140  \n",
       "7       calls                      183  \n",
       "        emails                    5207  \n",
       "        textmessages              2429  \n",
       "8       calls                      293  \n",
       "        emails                    1945  \n",
       "        textmessages               494  \n",
       "9       calls                      814  \n",
       "        emails                    7292  \n",
       "        textmessages              1175  \n",
       "10      calls                      647  \n",
       "        emails                    5630  \n",
       "        textmessages              5378  "
      ]
     },
     "execution_count": 74,
     "metadata": {},
     "output_type": "execute_result"
    }
   ],
   "source": [
    "group.count()"
   ]
  },
  {
   "cell_type": "code",
   "execution_count": 152,
   "metadata": {},
   "outputs": [],
   "source": [
    "#n = 3\n",
    "#df['agentId'].value_counts()[:n].index.tolist()"
   ]
  },
  {
   "cell_type": "markdown",
   "metadata": {},
   "source": [
    "#### A simple algorithm which returns the list of top 3 agents"
   ]
  },
  {
   "cell_type": "code",
   "execution_count": 87,
   "metadata": {},
   "outputs": [],
   "source": [
    "def top_3_agents(x,col, n=3):\n",
    "    return x[col].value_counts()[:n].index.tolist()"
   ]
  },
  {
   "cell_type": "code",
   "execution_count": 88,
   "metadata": {},
   "outputs": [
    {
     "data": {
      "text/plain": [
       "[4, 10, 5]"
      ]
     },
     "execution_count": 88,
     "metadata": {},
     "output_type": "execute_result"
    }
   ],
   "source": [
    "top_3_agents(df,'agentId')"
   ]
  },
  {
   "cell_type": "markdown",
   "metadata": {},
   "source": [
    "#### Visualizations with respect to the agent activities are made below to understand them better."
   ]
  },
  {
   "cell_type": "markdown",
   "metadata": {},
   "source": [
    "#### All the activities captured in the first graph."
   ]
  },
  {
   "cell_type": "code",
   "execution_count": 140,
   "metadata": {},
   "outputs": [
    {
     "data": {
      "text/plain": [
       "<AxesSubplot:title={'center':'Agent Activity'}, xlabel='agentId,followup_type'>"
      ]
     },
     "execution_count": 140,
     "metadata": {},
     "output_type": "execute_result"
    },
    {
     "data": {
      "image/png": "[encoded data removed]",
      "text/plain": [
       "<Figure size 1008x720 with 1 Axes>"
      ]
     },
     "metadata": {},
     "output_type": "display_data"
    }
   ],
   "source": [
    "plt.figure(figsize=(14,10))\n",
    "plt.style.use('fivethirtyeight')\n",
    "plt.grid(True)\n",
    "plt.title('Agent Activity')\n",
    "\n",
    "groups = df.groupby(['agentId','followup_type']).size()\n",
    "groups.plot.bar(stacked=True)\n"
   ]
  },
  {
   "cell_type": "code",
   "execution_count": 107,
   "metadata": {},
   "outputs": [],
   "source": [
    "#fig, ax = plt.subplots(figsize=(15,7))\n",
    "#df.groupby(['agentId','followup_type']).count().plot(ax=ax)"
   ]
  },
  {
   "cell_type": "code",
   "execution_count": 117,
   "metadata": {},
   "outputs": [],
   "source": [
    "df_calls=df[df['followup_type']=='calls']\n",
    "df_calls.drop(['id', 'followup_date', 'lead_created_at','leadId', 'additional_data'],axis='columns',inplace=True)"
   ]
  },
  {
   "cell_type": "code",
   "execution_count": 118,
   "metadata": {},
   "outputs": [
    {
     "data": {
      "text/plain": [
       "Index(['followup_type', 'agentId'], dtype='object')"
      ]
     },
     "execution_count": 118,
     "metadata": {},
     "output_type": "execute_result"
    }
   ],
   "source": [
    "df_calls.columns"
   ]
  },
  {
   "cell_type": "markdown",
   "metadata": {},
   "source": [
    "#### The graph below gives the data for the calls by various agents. "
   ]
  },
  {
   "cell_type": "code",
   "execution_count": 143,
   "metadata": {},
   "outputs": [
    {
     "data": {
      "text/plain": [
       "<AxesSubplot:title={'center':'Number of calls made by Agents'}, xlabel='agentId,followup_type'>"
      ]
     },
     "execution_count": 143,
     "metadata": {},
     "output_type": "execute_result"
    },
    {
     "data": {
      "image/png": "[encoded data removed]",
      "text/plain": [
       "<Figure size 576x576 with 1 Axes>"
      ]
     },
     "metadata": {},
     "output_type": "display_data"
    }
   ],
   "source": [
    "plt.figure(figsize=(8,8))\n",
    "plt.style.use('fivethirtyeight')\n",
    "plt.grid(True)\n",
    "plt.title('Number of calls made by Agents')\n",
    "groups = df_calls.groupby(['agentId','followup_type']).size()\n",
    "groups.plot.bar(color=['red','blue','red','red','red','green','blue','blue'])"
   ]
  },
  {
   "cell_type": "code",
   "execution_count": 144,
   "metadata": {},
   "outputs": [
    {
     "name": "stderr",
     "output_type": "stream",
     "text": [
      "C:\\Users\\Abhiroop Chakraborty\\anaconda3\\lib\\site-packages\\pandas\\core\\frame.py:4170: SettingWithCopyWarning: \n",
      "A value is trying to be set on a copy of a slice from a DataFrame\n",
      "\n",
      "See the caveats in the documentation: https://pandas.pydata.org/pandas-docs/stable/user_guide/indexing.html#returning-a-view-versus-a-copy\n",
      "  errors=errors,\n"
     ]
    }
   ],
   "source": [
    "df_emails=df[df['followup_type']=='emails']\n",
    "df_emails.drop(['id', 'followup_date', 'lead_created_at','leadId', 'additional_data'],axis='columns',inplace=True)"
   ]
  },
  {
   "cell_type": "markdown",
   "metadata": {},
   "source": [
    "#### The graph below gives the data for the emails by various agents. "
   ]
  },
  {
   "cell_type": "code",
   "execution_count": 146,
   "metadata": {},
   "outputs": [
    {
     "data": {
      "text/plain": [
       "<AxesSubplot:title={'center':'Number of emails sent by Agents'}, xlabel='agentId,followup_type'>"
      ]
     },
     "execution_count": 146,
     "metadata": {},
     "output_type": "execute_result"
    },
    {
     "data": {
      "image/png": "[encoded data removed]",
      "text/plain": [
       "<Figure size 576x576 with 1 Axes>"
      ]
     },
     "metadata": {},
     "output_type": "display_data"
    }
   ],
   "source": [
    "plt.figure(figsize=(8,8))\n",
    "plt.style.use('fivethirtyeight')\n",
    "plt.grid(True)\n",
    "plt.title('Number of emails sent by Agents')\n",
    "groups = df_emails.groupby(['agentId','followup_type']).size()\n",
    "groups.plot.bar(color=['green','red','blue','blue','green','blue','red','blue','blue'])"
   ]
  },
  {
   "cell_type": "code",
   "execution_count": 148,
   "metadata": {},
   "outputs": [
    {
     "name": "stderr",
     "output_type": "stream",
     "text": [
      "C:\\Users\\Abhiroop Chakraborty\\anaconda3\\lib\\site-packages\\pandas\\core\\frame.py:4170: SettingWithCopyWarning: \n",
      "A value is trying to be set on a copy of a slice from a DataFrame\n",
      "\n",
      "See the caveats in the documentation: https://pandas.pydata.org/pandas-docs/stable/user_guide/indexing.html#returning-a-view-versus-a-copy\n",
      "  errors=errors,\n"
     ]
    }
   ],
   "source": [
    "df_texts=df[df['followup_type']=='textmessages']\n",
    "df_texts.drop(['id', 'followup_date', 'lead_created_at','leadId', 'additional_data'],axis='columns',inplace=True)"
   ]
  },
  {
   "cell_type": "markdown",
   "metadata": {},
   "source": [
    "#### The graph below gives the data for the texts by various agents. "
   ]
  },
  {
   "cell_type": "code",
   "execution_count": 150,
   "metadata": {},
   "outputs": [
    {
     "data": {
      "text/plain": [
       "<AxesSubplot:title={'center':'Number of text messages sent by Agents'}, xlabel='agentId,followup_type'>"
      ]
     },
     "execution_count": 150,
     "metadata": {},
     "output_type": "execute_result"
    },
    {
     "data": {
      "image/png": "[encoded data removed]",
      "text/plain": [
       "<Figure size 576x576 with 1 Axes>"
      ]
     },
     "metadata": {},
     "output_type": "display_data"
    }
   ],
   "source": [
    "plt.figure(figsize=(8,8))\n",
    "plt.style.use('fivethirtyeight')\n",
    "plt.grid(True)\n",
    "plt.title('Number of text messages sent by Agents')\n",
    "groups = df_texts.groupby(['agentId','followup_type']).size()\n",
    "groups.plot.bar(color=['red','red','red','blue','red','blue','green','red','green','blue'])"
   ]
  },
  {
   "cell_type": "markdown",
   "metadata": {},
   "source": [
    "### Summary\n",
    "#### CRM department efforts by agentId- Observations\n",
    "\n",
    "##### Top 3 Agents\n",
    "\n",
    "1. Agents 4,10 and 5 have had the highest number of leads generated in the above data. \n",
    "\n",
    "2. Agent 4 has been very active on all the kinds of follow-up actions, especially on calls, which helps generate more leads \n",
    "   due to the personal touch. Agent 4 has made the highest number of calls. \n",
    "\n",
    "3. Agent 5 has focused more on the email front and has sent the highest number of emails among all other agents. \n",
    "\n",
    "4. Agent 10 has made an effort in all 3 dimensions of the follow-up type. \n",
    "\n",
    "#### Other Agents\n",
    "\n",
    "1. Agent 0 has only made efforts through texts, which has seen the least number of leads. \n",
    "\n",
    "2. Agent 3 has made no calls and very few texts and emails.\n",
    "\n",
    "\n",
    "\n",
    "### Recommendations\n",
    "\n",
    "- Calls seem to be one of the most significant follow-up methods. It has worked very well for agent 4,9 and 10. \n",
    "- When efforts are shared in all 3 methods, leads to good results. Agent 10 happens to be one of them. \n"
   ]
  },
  {
   "cell_type": "code",
   "execution_count": null,
   "metadata": {},
   "outputs": [],
   "source": []
  }
 ],
 "metadata": {
  "kernelspec": {
   "display_name": "Python 3",
   "language": "python",
   "name": "python3"
  },
  "language_info": {
   "codemirror_mode": {
    "name": "ipython",
    "version": 3
   },
   "file_extension": ".py",
   "mimetype": "text/x-python",
   "name": "python",
   "nbconvert_exporter": "python",
   "pygments_lexer": "ipython3",
   "version": "3.7.9"
  }
 },
 "nbformat": 4,
 "nbformat_minor": 4
}
